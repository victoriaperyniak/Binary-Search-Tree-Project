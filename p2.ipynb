{
 "cells": [
  {
   "cell_type": "code",
   "execution_count": 1,
   "id": "8b03da2b-d8e0-4073-b534-af969ff77e1f",
   "metadata": {},
   "outputs": [],
   "source": [
    "# project: p2\n",
    "# submitter: peryniak\n",
    "# partner: none\n",
    "# hours: 16"
   ]
  },
  {
   "cell_type": "code",
   "execution_count": 2,
   "id": "0e32e9b5-8f58-41a2-8338-c914376ba429",
   "metadata": {},
   "outputs": [],
   "source": [
    "import loans\n",
    "import search\n",
    "import time\n",
    "import matplotlib.pyplot as plt\n",
    "\n",
    "%load_ext autoreload\n",
    "%autoreload 2"
   ]
  },
  {
   "cell_type": "code",
   "execution_count": 3,
   "id": "a22e3f73-66a1-46cc-9ce3-a339120837a3",
   "metadata": {},
   "outputs": [],
   "source": [
    "#loans.hey()"
   ]
  },
  {
   "cell_type": "code",
   "execution_count": 4,
   "id": "27094522-e696-488c-921e-90a3a41c4006",
   "metadata": {},
   "outputs": [
    {
     "data": {
      "text/plain": [
       "{'American Indian or Alaska Native', 'Asian', 'Black or African American'}"
      ]
     },
     "execution_count": 4,
     "metadata": {},
     "output_type": "execute_result"
    }
   ],
   "source": [
    "applicant = loans.Applicant(\"20-30\", [\"1\", \"2\", \"3\"])\n",
    "applicant.race"
   ]
  },
  {
   "cell_type": "code",
   "execution_count": 5,
   "id": "daa83c79-c43b-4f4d-addf-8622629ebb09",
   "metadata": {},
   "outputs": [
    {
     "data": {
      "text/plain": [
       "20"
      ]
     },
     "execution_count": 5,
     "metadata": {},
     "output_type": "execute_result"
    }
   ],
   "source": [
    "applicant.lower_age()"
   ]
  },
  {
   "cell_type": "code",
   "execution_count": 6,
   "id": "2b19f01b-5ba8-4d1d-aab4-5424c1304d86",
   "metadata": {},
   "outputs": [
    {
     "data": {
      "text/plain": [
       "\"Applicant('20-30', ['American Indian or Alaska Native', 'Asian', 'Black or African American'])\""
      ]
     },
     "execution_count": 6,
     "metadata": {},
     "output_type": "execute_result"
    }
   ],
   "source": [
    "repr(applicant)"
   ]
  },
  {
   "cell_type": "code",
   "execution_count": 7,
   "id": "53fc5677-dbb8-4e03-bf2e-8b392ef82797",
   "metadata": {},
   "outputs": [
    {
     "data": {
      "text/plain": [
       "[Applicant('20-30', ['American Indian or Alaska Native', 'Black or African American']),\n",
       " Applicant('<25', ['White']),\n",
       " Applicant('35-44', ['Chinese']),\n",
       " Applicant('>75', ['Other Pacific Islander', 'Samoan'])]"
      ]
     },
     "execution_count": 7,
     "metadata": {},
     "output_type": "execute_result"
    }
   ],
   "source": [
    "sorted([\n",
    "    loans.Applicant(\">75\", [\"43\", \"44\"]),\n",
    "    loans.Applicant(\"20-30\", [\"1\", \"3\"]),\n",
    "    loans.Applicant(\"35-44\", [\"22\"]),\n",
    "    loans.Applicant(\"<25\", [\"5\"]),\n",
    "])"
   ]
  },
  {
   "cell_type": "code",
   "execution_count": 8,
   "id": "c40cf72e-0896-4ece-baeb-032a5bb12779",
   "metadata": {},
   "outputs": [],
   "source": [
    "values = {'activity_year': '2020', 'lei': '549300FX7K8PTEQUU487', 'derived_msa-md': '31540', 'state_code': 'WI',\n",
    "         'county_code': '55025', 'census_tract': '55025002402', 'conforming_loan_limit': 'C',\n",
    "         'derived_loan_product_type': 'Conventional:First Lien',\n",
    "         'derived_dwelling_category': 'Single Family (1-4 Units):Site-Built',\n",
    "         'derived_ethnicity': 'Not Hispanic or Latino', 'derived_race': 'White', 'derived_sex': 'Male',\n",
    "         'action_taken': '3', 'purchaser_type': '0', 'preapproval': '2', 'loan_type': '1', 'loan_purpose': '4',\n",
    "         'lien_status': '1', 'reverse_mortgage': '2', 'open-end_line_of_credit': '1',\n",
    "         'business_or_commercial_purpose': '2', 'loan_amount': '225000.0', 'loan_to_value_ratio': '78.671',\n",
    "         'interest_rate': '3.000', 'rate_spread': 'NA', 'hoepa_status': '3', 'total_loan_costs': 'NA',\n",
    "         'total_points_and_fees': 'NA', 'origination_charges': 'NA', 'discount_points': 'NA',\n",
    "         'lender_credits': 'NA', 'loan_term': '360', 'prepayment_penalty_term': 'NA', 'intro_rate_period': '1',\n",
    "         'negative_amortization': '2', 'interest_only_payment': '2', 'balloon_payment': '2',\n",
    "         'other_nonamortizing_features': '2', 'property_value': '285000', 'construction_method': '1',\n",
    "         'occupancy_type': '1', 'manufactured_home_secured_property_type': '3',\n",
    "         'manufactured_home_land_property_interest': '5', 'total_units': '1', 'multifamily_affordable_units': 'NA',\n",
    "         'income': '0', 'debt_to_income_ratio': '>60%', 'applicant_credit_score_type': '1',\n",
    "         'co-applicant_credit_score_type': '10', 'applicant_ethnicity-1': '2', 'applicant_ethnicity-2': '',\n",
    "         'applicant_ethnicity-3': '', 'applicant_ethnicity-4': '', 'applicant_ethnicity-5': '',\n",
    "         'co-applicant_ethnicity-1': '5', 'co-applicant_ethnicity-2': '', 'co-applicant_ethnicity-3': '',\n",
    "         'co-applicant_ethnicity-4': '', 'co-applicant_ethnicity-5': '', 'applicant_ethnicity_observed': '2',\n",
    "         'co-applicant_ethnicity_observed': '4', 'applicant_race-1': '5', 'applicant_race-2': '',\n",
    "         'applicant_race-3': '', 'applicant_race-4': '', 'applicant_race-5': '', 'co-applicant_race-1': '8',\n",
    "         'co-applicant_race-2': '', 'co-applicant_race-3': '', 'co-applicant_race-4': '', 'co-applicant_race-5': '',\n",
    "         'applicant_race_observed': '2', 'co-applicant_race_observed': '4', 'applicant_sex': '1',\n",
    "         'co-applicant_sex': '5', 'applicant_sex_observed': '2', 'co-applicant_sex_observed': '4',\n",
    "         'applicant_age': '55-64', 'co-applicant_age': '9999', 'applicant_age_above_62': 'Yes',\n",
    "         'co-applicant_age_above_62': 'NA', 'submission_of_application': '1', 'initially_payable_to_institution': '1',\n",
    "         'aus-1': '6', 'aus-2': '', 'aus-3': '', 'aus-4': '', 'aus-5': '', 'denial_reason-1': '1',\n",
    "         'denial_reason-2': '', 'denial_reason-3': '', 'denial_reason-4': '', 'tract_population': '3572',\n",
    "         'tract_minority_population_percent': '41.1499999999999986', 'ffiec_msa_md_median_family_income': '96600',\n",
    "         'tract_to_msa_income_percentage': '64', 'tract_owner_occupied_units': '812',\n",
    "         'tract_one_to_four_family_homes': '910', 'tract_median_age_of_housing_units': '45'}\n",
    "loan = loans.Loan(values)"
   ]
  },
  {
   "cell_type": "code",
   "execution_count": 9,
   "id": "9fd06464-fd4d-4ba7-8c64-3a234335551f",
   "metadata": {},
   "outputs": [
    {
     "data": {
      "text/plain": [
       "3.0"
      ]
     },
     "execution_count": 9,
     "metadata": {},
     "output_type": "execute_result"
    }
   ],
   "source": [
    "loan.interest_rate"
   ]
  },
  {
   "cell_type": "code",
   "execution_count": 10,
   "id": "f7edc8b0-e0fb-4c14-9f30-6c5ce9eddaa5",
   "metadata": {},
   "outputs": [
    {
     "data": {
      "text/plain": [
       "285000.0"
      ]
     },
     "execution_count": 10,
     "metadata": {},
     "output_type": "execute_result"
    }
   ],
   "source": [
    "loan.property_value"
   ]
  },
  {
   "cell_type": "code",
   "execution_count": 11,
   "id": "eee31e76-5c19-4aab-8fda-f38332a8c4d6",
   "metadata": {},
   "outputs": [
    {
     "name": "stdout",
     "output_type": "stream",
     "text": [
      "225000.0\n",
      "211750.0\n",
      "198102.5\n",
      "184045.575\n",
      "169566.94225000002\n",
      "154653.95051750002\n",
      "139293.56903302504\n",
      "123472.3761040158\n",
      "107176.54738713628\n",
      "90391.84380875036\n",
      "73103.59912301287\n",
      "55296.70709670326\n",
      "36955.60830960436\n",
      "18064.27655889249\n"
     ]
    }
   ],
   "source": [
    "for amt in loan.yearly_amounts(20000):\n",
    "    print(amt)"
   ]
  },
  {
   "cell_type": "code",
   "execution_count": 12,
   "id": "6ceabd1b-6763-495f-b08f-498f376086b3",
   "metadata": {},
   "outputs": [
    {
     "name": "stdout",
     "output_type": "stream",
     "text": [
      "A : [9, 5]\n",
      "B : [22]\n",
      "C : [33]\n"
     ]
    }
   ],
   "source": [
    "tree = search.BST()\n",
    "tree.add(\"A\", 9)\n",
    "tree.add(\"A\", 5)\n",
    "tree.add(\"B\", 22)\n",
    "tree.add(\"C\", 33)\n",
    "tree.dump()"
   ]
  },
  {
   "cell_type": "code",
   "execution_count": 13,
   "id": "c09d481b-bc65-4caf-b9b2-44012461af61",
   "metadata": {},
   "outputs": [],
   "source": [
    "t = search.BST()\n",
    "t.add(\"B\", 3)\n",
    "assert len(t.root) == 1\n",
    "t.add(\"A\", 2)\n",
    "assert len(t.root) == 2\n",
    "t.add(\"C\", 1)\n",
    "assert len(t.root) == 3\n",
    "t.add(\"C\", 4)\n",
    "assert len(t.root) == 4"
   ]
  },
  {
   "cell_type": "code",
   "execution_count": 14,
   "id": "6aeec513-50a5-4852-a1e3-3008303416d3",
   "metadata": {},
   "outputs": [
    {
     "data": {
      "text/plain": [
       "[]"
      ]
     },
     "execution_count": 14,
     "metadata": {},
     "output_type": "execute_result"
    }
   ],
   "source": [
    "#t.root.lookup(\"A\")\n",
    "#t.root.lookup(\"C\")\n",
    "t.root.lookup(\"Z\")"
   ]
  },
  {
   "cell_type": "code",
   "execution_count": 15,
   "id": "daa2fd09-f603-4b6b-913a-90b0f4cee499",
   "metadata": {},
   "outputs": [
    {
     "data": {
      "text/plain": [
       "[]"
      ]
     },
     "execution_count": 15,
     "metadata": {},
     "output_type": "execute_result"
    }
   ],
   "source": [
    "t[\"Z\"]"
   ]
  },
  {
   "cell_type": "code",
   "execution_count": 16,
   "id": "01614e26-1392-437c-8095-a1e45de78a7d",
   "metadata": {},
   "outputs": [
    {
     "data": {
      "text/plain": [
       "list"
      ]
     },
     "execution_count": 16,
     "metadata": {},
     "output_type": "execute_result"
    }
   ],
   "source": [
    "type(loans.banks_data)"
   ]
  },
  {
   "cell_type": "code",
   "execution_count": 17,
   "id": "7514a0a0-fdee-48a4-b455-3a6d3d1ecc3a",
   "metadata": {},
   "outputs": [],
   "source": [
    "# creates a bank object\n",
    "uwcu = loans.Bank(\"University of Wisconsin Credit Union\")"
   ]
  },
  {
   "cell_type": "code",
   "execution_count": 18,
   "id": "5451684c-ba22-431f-8028-d98a62b4f670",
   "metadata": {},
   "outputs": [
    {
     "data": {
      "text/plain": [
       "'IndexError: index is not present in list'"
      ]
     },
     "execution_count": 18,
     "metadata": {},
     "output_type": "execute_result"
    }
   ],
   "source": [
    "uwcu[len(uwcu) + 2]"
   ]
  },
  {
   "cell_type": "code",
   "execution_count": 19,
   "id": "c62d765d-82b0-409a-9864-6b53496ed14b",
   "metadata": {},
   "outputs": [],
   "source": [
    "#uwcu[0]"
   ]
  },
  {
   "cell_type": "code",
   "execution_count": 20,
   "id": "17aaba8b-e238-4bf3-9995-4913cc5f13a8",
   "metadata": {},
   "outputs": [],
   "source": [
    "#loan.interest_rate"
   ]
  },
  {
   "cell_type": "code",
   "execution_count": 21,
   "id": "c3246ce0-9d42-4038-99c5-f784d29a6203",
   "metadata": {},
   "outputs": [],
   "source": [
    "#Part 3:\n",
    "fhbank = loans.Bank(\"First Home Bank\")"
   ]
  },
  {
   "cell_type": "code",
   "execution_count": 22,
   "id": "64685128-ff00-47aa-987d-0cec3cb040c1",
   "metadata": {},
   "outputs": [
    {
     "data": {
      "text/plain": [
       "loans.Loan"
      ]
     },
     "execution_count": 22,
     "metadata": {},
     "output_type": "execute_result"
    }
   ],
   "source": [
    "type(fhbank.loans)\n",
    "type(fhbank.loans[0])"
   ]
  },
  {
   "cell_type": "code",
   "execution_count": 23,
   "id": "9f2c2f50-fb41-495d-9a8f-89567b1e9996",
   "metadata": {},
   "outputs": [
    {
     "data": {
      "text/plain": [
       "2.962962962962963"
      ]
     },
     "execution_count": 23,
     "metadata": {},
     "output_type": "execute_result"
    }
   ],
   "source": [
    "#Q1: what is the average interest rate for the bank?\n",
    "interest_sum = 0\n",
    "interest_count = 0\n",
    "for item in fhbank.loans:\n",
    "    if item.interest_rate != -1:\n",
    "        interest_sum += item.interest_rate\n",
    "        interest_count += 1\n",
    "    \n",
    "interest_sum / interest_count"
   ]
  },
  {
   "cell_type": "code",
   "execution_count": 24,
   "id": "b379d12f-f53b-4923-b57b-2b6a62ae7a7e",
   "metadata": {},
   "outputs": [
    {
     "data": {
      "text/plain": [
       "1.5777777777777777"
      ]
     },
     "execution_count": 24,
     "metadata": {},
     "output_type": "execute_result"
    }
   ],
   "source": [
    "#Q2: how many applicants are there per loan, on average?\n",
    "applicants_sum = 0\n",
    "applicants_count = 0\n",
    "for item in fhbank.loans:\n",
    "    num_applicants = len(item.applicants)\n",
    "    applicants_sum += num_applicants\n",
    "    applicants_count += 1\n",
    "    \n",
    "applicants_sum / applicants_count"
   ]
  },
  {
   "cell_type": "code",
   "execution_count": 25,
   "id": "05f6d438-3541-4f95-a560-236525b0c2b3",
   "metadata": {},
   "outputs": [
    {
     "data": {
      "text/plain": [
       "{'65-74': 21, '45-54': 21, '>74': 5, '25-34': 4, '35-44': 13, '55-64': 7}"
      ]
     },
     "execution_count": 25,
     "metadata": {},
     "output_type": "execute_result"
    }
   ],
   "source": [
    "#Q3: what is the distribution of ages?\n",
    "ages_distrb = {}\n",
    "for item in fhbank.loans:\n",
    "    if len(item.applicants) == 1:\n",
    "        if item.applicants[0].age not in ages_distrb:\n",
    "            ages_distrb[item.applicants[0].age] = 1\n",
    "        else:\n",
    "            ages_distrb[item.applicants[0].age] += 1\n",
    "    else:\n",
    "        if item.applicants[0].age not in ages_distrb:\n",
    "            ages_distrb[item.applicants[0].age] = 1\n",
    "        else:\n",
    "            ages_distrb[item.applicants[0].age] += 1\n",
    "        if item.applicants[1].age not in ages_distrb:\n",
    "            ages_distrb[item.applicants[1].age] = 1\n",
    "        else:\n",
    "            ages_distrb[item.applicants[1].age] += 1\n",
    "            \n",
    "ages_distrb"
   ]
  },
  {
   "cell_type": "code",
   "execution_count": 26,
   "id": "75d7bb21-eb54-46d8-af79-6ec9003225c3",
   "metadata": {},
   "outputs": [
    {
     "data": {
      "text/plain": [
       "18"
      ]
     },
     "execution_count": 26,
     "metadata": {},
     "output_type": "execute_result"
    }
   ],
   "source": [
    "#Q4: how many interest rate values are missing?\n",
    "# create tree\n",
    "loans_tree = search.BST()\n",
    "#type(loans_tree)\n",
    "\n",
    "#loop through fhbank to add each loan to the tree:\n",
    "    #key: item.interest_rate\n",
    "    #val: item\n",
    "for item in fhbank.loans:\n",
    "    loans_tree.add(item.interest_rate, item)\n",
    "\n",
    "#loans_tree.dump()\n",
    "len(loans_tree[-1])"
   ]
  },
  {
   "cell_type": "code",
   "execution_count": 27,
   "id": "8e46ac93-a96e-49cc-82a1-95f418aae19e",
   "metadata": {},
   "outputs": [
    {
     "data": {
      "text/plain": [
       "9"
      ]
     },
     "execution_count": 27,
     "metadata": {},
     "output_type": "execute_result"
    }
   ],
   "source": [
    "#Q5: how tall is the tree?\n",
    "# references: https://www.techiedelight.com/calculate-height-binary-tree-iterative-recursive/\n",
    "# https://www.geeksforgeeks.org/iterative-method-to-find-height-of-binary-tree/\n",
    "def height(root):\n",
    "    #base case:\n",
    "    if root is None:\n",
    "        return 0\n",
    "    \n",
    "    left_height = height(root.left)\n",
    "    right_height = height(root.right)\n",
    "    \n",
    "    return (max(left_height, right_height) + 1)\n",
    "    \n",
    "height(loans_tree.root)"
   ]
  },
  {
   "cell_type": "code",
   "execution_count": 28,
   "id": "69419420-0ae8-4ab8-8082-5e2e29d7b5bb",
   "metadata": {
    "tags": []
   },
   "outputs": [],
   "source": [
    "#Part 4:\n",
    "uwcu_bank = loans.Bank(\"University of Wisconsin Credit Union\")"
   ]
  },
  {
   "cell_type": "code",
   "execution_count": 29,
   "id": "9eda3175-e260-43bf-a26d-3761f63905d4",
   "metadata": {},
   "outputs": [
    {
     "data": {
      "text/plain": [
       "Text(0, 0.5, 'Total Elapsed Milliseconds')"
      ]
     },
     "execution_count": 29,
     "metadata": {},
     "output_type": "execute_result"
    },
    {
     "data": {
      "image/png": "[encoded data removed]",
      "text/plain": [
       "<Figure size 640x480 with 1 Axes>"
      ]
     },
     "metadata": {},
     "output_type": "display_data"
    }
   ],
   "source": [
    "#Q6: how long does it take to add the loans to the tree?\n",
    "#Reference for plot: https://datatofish.com/line-chart-python-matplotlib/\n",
    "uwcu_tree = search.BST()\n",
    "\n",
    "loan_count = list(range(1, (len(uwcu_bank)+1)))\n",
    "adding_elapsed_time_list = []\n",
    "adding_start_time = time.time()\n",
    "for item in uwcu_bank.loans:\n",
    "    uwcu_tree.add(item.interest_rate, item)\n",
    "    adding_end_time = time.time()\n",
    "    time_elapsed = (adding_end_time - adding_start_time)*1000\n",
    "    adding_elapsed_time_list.append(time_elapsed)\n",
    "    #print(time_elapsed)\n",
    "    \n",
    "plt.plot(loan_count, adding_elapsed_time_list)\n",
    "plt.xlabel(\"BST Adds\")\n",
    "plt.ylabel(\"Total Elapsed Milliseconds\")\n",
    "#len(num_loans)\n",
    "#len(elapsed_time_list)"
   ]
  },
  {
   "cell_type": "code",
   "execution_count": 30,
   "id": "91def2ec-447d-4e2e-b473-a0b6e7e4f47c",
   "metadata": {},
   "outputs": [
    {
     "data": {
      "text/plain": [
       "Text(0, 0.5, 'Milliseconds')"
      ]
     },
     "execution_count": 30,
     "metadata": {},
     "output_type": "execute_result"
    },
    {
     "data": {
      "image/png": "[encoded data removed]",
      "text/plain": [
       "<Figure size 640x480 with 1 Axes>"
      ]
     },
     "metadata": {},
     "output_type": "display_data"
    }
   ],
   "source": [
    "#Q7: how fast are tree lookups?\n",
    "#Reference for plot: https://www.geeksforgeeks.org/bar-plot-in-matplotlib/\n",
    "\n",
    "#Loop time\n",
    "loop_count = 0\n",
    "loop_start_time = time.time()\n",
    "for item in uwcu_bank.loans:\n",
    "    if item.interest_rate == -1:\n",
    "        loop_count += 1\n",
    "loop_end_time = time.time()\n",
    "loop_elapsed_time = (loop_end_time - loop_start_time)*1000\n",
    "#missing_int_rate_loans\n",
    "\n",
    "#BST time\n",
    "BST_start_time = time.time()\n",
    "len(uwcu_tree[-1])\n",
    "BST_end_time = time.time()\n",
    "BST_elapsed_time = (BST_end_time - BST_start_time)*1000\n",
    "\n",
    "xaxis_list = [\"Loop\", \"BST\"]\n",
    "yaxis_list = [loop_elapsed_time, BST_elapsed_time]\n",
    "plt.bar(xaxis_list, yaxis_list, width = 0.4)\n",
    "plt.ylabel(\"Milliseconds\")"
   ]
  },
  {
   "cell_type": "code",
   "execution_count": 31,
   "id": "27e25d75-fc07-4215-9f46-e2b15014c51c",
   "metadata": {},
   "outputs": [
    {
     "data": {
      "text/plain": [
       "Text(0, 0.5, 'Number of Applicants')"
      ]
     },
     "execution_count": 31,
     "metadata": {},
     "output_type": "execute_result"
    },
    {
     "data": {
      "image/png": "[encoded data removed]",
      "text/plain": [
       "<Figure size 640x480 with 1 Axes>"
      ]
     },
     "metadata": {},
     "output_type": "display_data"
    }
   ],
   "source": [
    "#Q8: How many applicants indicate multiple racial identities?\n",
    "#key: num of race selections (length), value: num of applicants\n",
    "race_len_count = {}\n",
    "\n",
    "#iterate through loans in uwcu bank object\n",
    "for item in uwcu_bank.loans:\n",
    "    #iterate through applicant objects in each loan\n",
    "    for item in item.applicants:\n",
    "        #print(item.race)\n",
    "        #append to dictionary\n",
    "        if len(item.race) not in race_len_count:\n",
    "            race_len_count[len(item.race)] = 1\n",
    "        else:\n",
    "            race_len_count[len(item.race)] += 1\n",
    "\n",
    "#print(race_len_count)\n",
    "xaxis_list = list(race_len_count.keys())\n",
    "yaxis_list = list(race_len_count.values())\n",
    "plt.bar(xaxis_list, yaxis_list, width = 0.4)\n",
    "plt.xlabel(\"Number of Race Selections\")\n",
    "plt.ylabel(\"Number of Applicants\")"
   ]
  },
  {
   "cell_type": "code",
   "execution_count": 32,
   "id": "a6100374-bdeb-4305-9f77-2273a1d0841c",
   "metadata": {},
   "outputs": [
    {
     "data": {
      "text/plain": [
       "9"
      ]
     },
     "execution_count": 32,
     "metadata": {},
     "output_type": "execute_result"
    }
   ],
   "source": [
    "#Q9: How many leaf nodes are in the tree?\n",
    "#reference: https://www.geeksforgeeks.org/write-a-c-program-to-get-count-of-leaf-nodes-in-a-binary-tree/\n",
    "def leaf_node_count(root):\n",
    "    if root == None:\n",
    "        return 0\n",
    "    elif (root.left == None) and (root.right == None):\n",
    "        return 1\n",
    "    else:\n",
    "        rec_leaf_count = leaf_node_count(root.left) + leaf_node_count(root.right)\n",
    "        return rec_leaf_count\n",
    "\n",
    "leaf_node_count(uwcu_tree.root)"
   ]
  },
  {
   "cell_type": "code",
   "execution_count": 33,
   "id": "17f407eb-9ea0-4cd9-be3c-5678e6214525",
   "metadata": {},
   "outputs": [
    {
     "data": {
      "text/plain": [
       "6.99"
      ]
     },
     "execution_count": 33,
     "metadata": {},
     "output_type": "execute_result"
    }
   ],
   "source": [
    "#Q10: What is the second largest interest rate in the Bank BST?\n",
    "def find_second_largest_node(root):\n",
    "    prev_node = root\n",
    "    curr_node = root\n",
    "    while (curr_node.right != None):\n",
    "        #prev_node and curr_node are currently the same\n",
    "        prev_node = curr_node\n",
    "        curr_node = curr_node.right\n",
    "    if (curr_node.left != None):\n",
    "        curr_node = curr_node.left\n",
    "        while (curr_node.right != None):\n",
    "            curr_node = curr_node.right\n",
    "        return curr_node\n",
    "    else:\n",
    "        return prev_node\n",
    "\n",
    "find_second_largest_node(uwcu_tree.root).key"
   ]
  }
 ],
 "metadata": {
  "kernelspec": {
   "display_name": "Python 3 (ipykernel)",
   "language": "python",
   "name": "python3"
  },
  "language_info": {
   "codemirror_mode": {
    "name": "ipython",
    "version": 3
   },
   "file_extension": ".py",
   "mimetype": "text/x-python",
   "name": "python",
   "nbconvert_exporter": "python",
   "pygments_lexer": "ipython3",
   "version": "3.10.4"
  }
 },
 "nbformat": 4,
 "nbformat_minor": 5
}
